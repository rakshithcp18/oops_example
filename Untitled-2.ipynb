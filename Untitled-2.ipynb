{
 "cells": [
  {
   "cell_type": "code",
   "execution_count": 1,
   "metadata": {},
   "outputs": [],
   "source": [
    "import random\n",
    "\n",
    "class Animal:\n",
    "    def __init__(self, name, species):\n",
    "        self.name = name\n",
    "        self.species = species\n",
    "\n",
    "    def speak(self):\n",
    "        raise NotImplementedError(\"Subclass must implement abstract method\")\n",
    "\n",
    "class Dog(Animal):\n",
    "    def speak(self):\n",
    "        return \"Woof!\"\n",
    "\n",
    "class Cat(Animal):\n",
    "    def speak(self):\n",
    "        return \"Meow!\"\n",
    "\n",
    "class PetShop:\n",
    "    def __init__(self):\n",
    "        self.animals = []\n",
    "\n",
    "    def add_animal(self, animal):\n",
    "        if isinstance(animal, Animal):\n",
    "            self.animals.append(animal)\n",
    "        else:\n",
    "            raise TypeError(\"Only Animal objects can be added to the pet shop\")\n",
    "\n",
    "    def get_animal_names(self):\n",
    "        return [animal.name for animal in self.animals]\n",
    "\n",
    "    def get_random_animal(self):\n",
    "        return random.choice(self.animals)\n",
    "\n",
    "    def get_speaking_animals(self):\n",
    "        speaking_animals = []\n",
    "        for animal in self.animals:\n",
    "            try:\n",
    "                if animal.speak():\n",
    "                    speaking_animals.append(animal)\n",
    "            except NotImplementedError:\n",
    "                pass\n",
    "        return speaking_animals\n"
   ]
  }
 ],
 "metadata": {
  "kernelspec": {
   "display_name": "venv",
   "language": "python",
   "name": "python3"
  },
  "language_info": {
   "codemirror_mode": {
    "name": "ipython",
    "version": 3
   },
   "file_extension": ".py",
   "mimetype": "text/x-python",
   "name": "python",
   "nbconvert_exporter": "python",
   "pygments_lexer": "ipython3",
   "version": "3.11.2"
  },
  "orig_nbformat": 4,
  "vscode": {
   "interpreter": {
    "hash": "0276710cea9183bf5723b3ec1551226e7dea836be28ae9161e927da44f504e6b"
   }
  }
 },
 "nbformat": 4,
 "nbformat_minor": 2
}
